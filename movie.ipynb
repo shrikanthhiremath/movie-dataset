{
 "cells": [
  {
   "cell_type": "code",
   "execution_count": 1,
   "metadata": {},
   "outputs": [],
   "source": [
    "import pandas as pd\n",
    "df = pd.read_csv(r\"C:\\Users\\shrik\\Desktop\\5th sem\\FAIML\\New folder\\movie-recommendation-dataset-release-date.csv\")\n"
   ]
  },
  {
   "cell_type": "code",
   "execution_count": 2,
   "metadata": {},
   "outputs": [],
   "source": [
    "from sklearn.impute import SimpleImputer\n",
    "imputer = SimpleImputer(strategy='mean')\n",
    "df['Rating'] = imputer.fit_transform(df[['Rating']])\n"
   ]
  },
  {
   "cell_type": "code",
   "execution_count": 3,
   "metadata": {},
   "outputs": [],
   "source": [
    "df = pd.get_dummies(df, columns=['Genres'], drop_first=True)\n"
   ]
  },
  {
   "cell_type": "code",
   "execution_count": 4,
   "metadata": {},
   "outputs": [],
   "source": [
    "df['Release Date'] = pd.to_datetime(df['Release Date'],dayfirst=True)\n",
    "df['Release Year'] = df['Release Date'].dt.year\n",
    "df['Release Month'] = df['Release Date'].dt.month\n"
   ]
  },
  {
   "cell_type": "code",
   "execution_count": 5,
   "metadata": {},
   "outputs": [],
   "source": [
    "from sklearn.model_selection import train_test_split\n",
    "X = df.drop(columns=['UserID', 'MovieID', 'Title', 'Timestamp', 'Release Date'])\n",
    "y = df['Rating']\n",
    "X_train, X_test, y_train, y_test = train_test_split(X, y, test_size=0.2, random_state=42)\n"
   ]
  },
  {
   "cell_type": "code",
   "execution_count": 1,
   "metadata": {},
   "outputs": [
    {
     "name": "stdout",
     "output_type": "stream",
     "text": [
      "Processed DataFrame:\n",
      "    MovieID              Title Release Date  UserID    Rating    Timestamp  \\\n",
      "0       101           Avengers   2005-05-15       1  0.428571   1104537600   \n",
      "1       102          Hera pari   2010-08-21       2  0.714286   1282435200   \n",
      "2       103    Laapataa Ladies   2015-11-05       3  1.000000   1446681600   \n",
      "3       104             Raayan   2020-02-14       4  0.285714   1581638400   \n",
      "4       105           Thalavan   1995-07-12       5  0.857143    804556800   \n",
      "5       106               Kill   2024-10-12       6  0.000000   4624734478   \n",
      "6       107              saaho   2020-05-03       7  0.142857  76875686841   \n",
      "7       108              stree   2019-12-15       8  0.571429   5319684900   \n",
      "8       109            stree 2   2024-08-04       8  1.000000    234567869   \n",
      "9       110    Bhool Bhulaiyaa   2007-07-06       9  0.528571   3490556839   \n",
      "10      111  Bhool Bhulaiyaa 2   2022-02-05       9  0.285714  66787325588   \n",
      "\n",
      "    Collection(in K)  Release Year  Release Month  Genres_Comedy  \\\n",
      "0               10.0          2005              5          False   \n",
      "1                5.0          2010              8           True   \n",
      "2                NaN          2015             11          False   \n",
      "3                3.0          2020              2          False   \n",
      "4                7.0          1995              7          False   \n",
      "5                5.0          2024             10          False   \n",
      "6                2.0          2020              5          False   \n",
      "7                9.0          2019             12           True   \n",
      "8                8.0          2024              8           True   \n",
      "9               10.0          2007              7          False   \n",
      "10               7.0          2022              2          False   \n",
      "\n",
      "    Genres_Drama  Genres_Thriller  Genres_action  Genres_horror  \n",
      "0          False            False          False          False  \n",
      "1          False            False          False          False  \n",
      "2           True            False          False          False  \n",
      "3          False            False          False          False  \n",
      "4          False             True          False          False  \n",
      "5          False            False           True          False  \n",
      "6          False             True          False          False  \n",
      "7          False            False          False          False  \n",
      "8          False            False          False          False  \n",
      "9          False            False          False           True  \n",
      "10         False            False          False           True  \n",
      "\n",
      "Training Data Shape: (8, 9) (8,)\n",
      "Testing Data Shape: (3, 9) (3,)\n"
     ]
    }
   ],
   "source": [
    "import pandas as pd\n",
    "from sklearn.impute import SimpleImputer\n",
    "from sklearn.preprocessing import MinMaxScaler\n",
    "from sklearn.model_selection import train_test_split\n",
    "\n",
    "# Load dataset (update the path to where your CSV is stored)\n",
    "df = pd.read_csv(r\"C:\\Users\\shrik\\Desktop\\5th sem\\FAIML\\New folder\\movie-dataset.csv\")\n",
    "\n",
    "# Handle missing values in the 'Rating' column\n",
    "imputer = SimpleImputer(strategy='mean')\n",
    "df['Rating'] = imputer.fit_transform(df[['Rating']])\n",
    "\n",
    "# Convert Release Date into datetime and extract year and month\n",
    "df['Release Date'] = pd.to_datetime(df['Release Date'], dayfirst=True)\n",
    "df['Release Year'] = df['Release Date'].dt.year\n",
    "df['Release Month'] = df['Release Date'].dt.month\n",
    "\n",
    "# Encode categorical data (Genres)\n",
    "df = pd.get_dummies(df, columns=['Genres'], drop_first=True)\n",
    "\n",
    "# Normalize the Ratings\n",
    "scaler = MinMaxScaler()\n",
    "df['Rating'] = scaler.fit_transform(df[['Rating']])\n",
    "\n",
    "# Split the data\n",
    "X = df.drop(columns=['UserID', 'MovieID', 'Title', 'Timestamp', 'Release Date'])\n",
    "y = df['Rating']\n",
    "X_train, X_test, y_train, y_test = train_test_split(X, y, test_size=0.2, random_state=42)\n",
    "\n",
    "# Display the processed DataFrame and the split data shapes\n",
    "print(\"Processed DataFrame:\")\n",
    "print(df)\n",
    "print(\"\\nTraining Data Shape:\", X_train.shape, y_train.shape)\n",
    "print(\"Testing Data Shape:\", X_test.shape, y_test.shape)\n",
    "\n",
    "\n"
   ]
  },
  {
   "cell_type": "code",
   "execution_count": 7,
   "metadata": {},
   "outputs": [
    {
     "data": {
      "text/plain": [
       "(11, 14)"
      ]
     },
     "execution_count": 7,
     "metadata": {},
     "output_type": "execute_result"
    }
   ],
   "source": [
    "df.shape"
   ]
  },
  {
   "cell_type": "code",
   "execution_count": 8,
   "metadata": {},
   "outputs": [
    {
     "data": {
      "text/plain": [
       "Index(['MovieID', 'Title', 'Release Date', 'UserID', 'Rating', 'Timestamp',\n",
       "       'Collection(in K)', 'Release Year', 'Release Month', 'Genres_Comedy',\n",
       "       'Genres_Drama', 'Genres_Thriller', 'Genres_action', 'Genres_horror'],\n",
       "      dtype='object')"
      ]
     },
     "execution_count": 8,
     "metadata": {},
     "output_type": "execute_result"
    }
   ],
   "source": [
    "df.columns"
   ]
  },
  {
   "cell_type": "code",
   "execution_count": 9,
   "metadata": {},
   "outputs": [
    {
     "data": {
      "text/plain": [
       "0.5285714285714285"
      ]
     },
     "execution_count": 9,
     "metadata": {},
     "output_type": "execute_result"
    }
   ],
   "source": [
    "df[\"Rating\"].mean()\n"
   ]
  },
  {
   "cell_type": "code",
   "execution_count": 10,
   "metadata": {},
   "outputs": [
    {
     "data": {
      "text/html": [
       "<div>\n",
       "<style scoped>\n",
       "    .dataframe tbody tr th:only-of-type {\n",
       "        vertical-align: middle;\n",
       "    }\n",
       "\n",
       "    .dataframe tbody tr th {\n",
       "        vertical-align: top;\n",
       "    }\n",
       "\n",
       "    .dataframe thead th {\n",
       "        text-align: right;\n",
       "    }\n",
       "</style>\n",
       "<table border=\"1\" class=\"dataframe\">\n",
       "  <thead>\n",
       "    <tr style=\"text-align: right;\">\n",
       "      <th></th>\n",
       "      <th>MovieID</th>\n",
       "      <th>Release Date</th>\n",
       "      <th>UserID</th>\n",
       "      <th>Rating</th>\n",
       "      <th>Timestamp</th>\n",
       "      <th>Collection(in K)</th>\n",
       "      <th>Release Year</th>\n",
       "      <th>Release Month</th>\n",
       "    </tr>\n",
       "  </thead>\n",
       "  <tbody>\n",
       "    <tr>\n",
       "      <th>count</th>\n",
       "      <td>11.000000</td>\n",
       "      <td>11</td>\n",
       "      <td>11.000000</td>\n",
       "      <td>11.000000</td>\n",
       "      <td>1.100000e+01</td>\n",
       "      <td>10.000000</td>\n",
       "      <td>11.000000</td>\n",
       "      <td>11.000000</td>\n",
       "    </tr>\n",
       "    <tr>\n",
       "      <th>mean</th>\n",
       "      <td>106.000000</td>\n",
       "      <td>2015-02-28 08:43:38.181818112</td>\n",
       "      <td>5.636364</td>\n",
       "      <td>0.528571</td>\n",
       "      <td>1.486840e+10</td>\n",
       "      <td>6.600000</td>\n",
       "      <td>2014.636364</td>\n",
       "      <td>7.000000</td>\n",
       "    </tr>\n",
       "    <tr>\n",
       "      <th>min</th>\n",
       "      <td>101.000000</td>\n",
       "      <td>1995-07-12 00:00:00</td>\n",
       "      <td>1.000000</td>\n",
       "      <td>0.000000</td>\n",
       "      <td>2.345679e+08</td>\n",
       "      <td>2.000000</td>\n",
       "      <td>1995.000000</td>\n",
       "      <td>2.000000</td>\n",
       "    </tr>\n",
       "    <tr>\n",
       "      <th>25%</th>\n",
       "      <td>103.500000</td>\n",
       "      <td>2009-01-27 00:00:00</td>\n",
       "      <td>3.500000</td>\n",
       "      <td>0.285714</td>\n",
       "      <td>1.193486e+09</td>\n",
       "      <td>5.000000</td>\n",
       "      <td>2008.500000</td>\n",
       "      <td>5.000000</td>\n",
       "    </tr>\n",
       "    <tr>\n",
       "      <th>50%</th>\n",
       "      <td>106.000000</td>\n",
       "      <td>2019-12-15 00:00:00</td>\n",
       "      <td>6.000000</td>\n",
       "      <td>0.528571</td>\n",
       "      <td>1.581638e+09</td>\n",
       "      <td>7.000000</td>\n",
       "      <td>2019.000000</td>\n",
       "      <td>7.000000</td>\n",
       "    </tr>\n",
       "    <tr>\n",
       "      <th>75%</th>\n",
       "      <td>108.500000</td>\n",
       "      <td>2021-03-20 12:00:00</td>\n",
       "      <td>8.000000</td>\n",
       "      <td>0.785714</td>\n",
       "      <td>4.972210e+09</td>\n",
       "      <td>8.750000</td>\n",
       "      <td>2021.000000</td>\n",
       "      <td>9.000000</td>\n",
       "    </tr>\n",
       "    <tr>\n",
       "      <th>max</th>\n",
       "      <td>111.000000</td>\n",
       "      <td>2024-10-12 00:00:00</td>\n",
       "      <td>9.000000</td>\n",
       "      <td>1.000000</td>\n",
       "      <td>7.687569e+10</td>\n",
       "      <td>10.000000</td>\n",
       "      <td>2024.000000</td>\n",
       "      <td>12.000000</td>\n",
       "    </tr>\n",
       "    <tr>\n",
       "      <th>std</th>\n",
       "      <td>3.316625</td>\n",
       "      <td>NaN</td>\n",
       "      <td>2.838053</td>\n",
       "      <td>0.338363</td>\n",
       "      <td>2.829963e+10</td>\n",
       "      <td>2.796824</td>\n",
       "      <td>9.298094</td>\n",
       "      <td>3.316625</td>\n",
       "    </tr>\n",
       "  </tbody>\n",
       "</table>\n",
       "</div>"
      ],
      "text/plain": [
       "          MovieID                   Release Date     UserID     Rating  \\\n",
       "count   11.000000                             11  11.000000  11.000000   \n",
       "mean   106.000000  2015-02-28 08:43:38.181818112   5.636364   0.528571   \n",
       "min    101.000000            1995-07-12 00:00:00   1.000000   0.000000   \n",
       "25%    103.500000            2009-01-27 00:00:00   3.500000   0.285714   \n",
       "50%    106.000000            2019-12-15 00:00:00   6.000000   0.528571   \n",
       "75%    108.500000            2021-03-20 12:00:00   8.000000   0.785714   \n",
       "max    111.000000            2024-10-12 00:00:00   9.000000   1.000000   \n",
       "std      3.316625                            NaN   2.838053   0.338363   \n",
       "\n",
       "          Timestamp  Collection(in K)  Release Year  Release Month  \n",
       "count  1.100000e+01         10.000000     11.000000      11.000000  \n",
       "mean   1.486840e+10          6.600000   2014.636364       7.000000  \n",
       "min    2.345679e+08          2.000000   1995.000000       2.000000  \n",
       "25%    1.193486e+09          5.000000   2008.500000       5.000000  \n",
       "50%    1.581638e+09          7.000000   2019.000000       7.000000  \n",
       "75%    4.972210e+09          8.750000   2021.000000       9.000000  \n",
       "max    7.687569e+10         10.000000   2024.000000      12.000000  \n",
       "std    2.829963e+10          2.796824      9.298094       3.316625  "
      ]
     },
     "execution_count": 10,
     "metadata": {},
     "output_type": "execute_result"
    }
   ],
   "source": [
    "df.describe()"
   ]
  },
  {
   "cell_type": "code",
   "execution_count": 11,
   "metadata": {},
   "outputs": [
    {
     "data": {
      "text/html": [
       "<div>\n",
       "<style scoped>\n",
       "    .dataframe tbody tr th:only-of-type {\n",
       "        vertical-align: middle;\n",
       "    }\n",
       "\n",
       "    .dataframe tbody tr th {\n",
       "        vertical-align: top;\n",
       "    }\n",
       "\n",
       "    .dataframe thead th {\n",
       "        text-align: right;\n",
       "    }\n",
       "</style>\n",
       "<table border=\"1\" class=\"dataframe\">\n",
       "  <thead>\n",
       "    <tr style=\"text-align: right;\">\n",
       "      <th></th>\n",
       "      <th>MovieID</th>\n",
       "      <th>Title</th>\n",
       "      <th>Release Date</th>\n",
       "      <th>UserID</th>\n",
       "      <th>Rating</th>\n",
       "      <th>Timestamp</th>\n",
       "      <th>Collection(in K)</th>\n",
       "      <th>Release Year</th>\n",
       "      <th>Release Month</th>\n",
       "      <th>Genres_Comedy</th>\n",
       "      <th>Genres_Drama</th>\n",
       "      <th>Genres_Thriller</th>\n",
       "      <th>Genres_action</th>\n",
       "      <th>Genres_horror</th>\n",
       "    </tr>\n",
       "  </thead>\n",
       "  <tbody>\n",
       "    <tr>\n",
       "      <th>0</th>\n",
       "      <td>101</td>\n",
       "      <td>Avengers</td>\n",
       "      <td>2005-05-15</td>\n",
       "      <td>1</td>\n",
       "      <td>0.428571</td>\n",
       "      <td>1104537600</td>\n",
       "      <td>10.0</td>\n",
       "      <td>2005</td>\n",
       "      <td>5</td>\n",
       "      <td>False</td>\n",
       "      <td>False</td>\n",
       "      <td>False</td>\n",
       "      <td>False</td>\n",
       "      <td>False</td>\n",
       "    </tr>\n",
       "    <tr>\n",
       "      <th>1</th>\n",
       "      <td>102</td>\n",
       "      <td>Hera pari</td>\n",
       "      <td>2010-08-21</td>\n",
       "      <td>2</td>\n",
       "      <td>0.714286</td>\n",
       "      <td>1282435200</td>\n",
       "      <td>5.0</td>\n",
       "      <td>2010</td>\n",
       "      <td>8</td>\n",
       "      <td>True</td>\n",
       "      <td>False</td>\n",
       "      <td>False</td>\n",
       "      <td>False</td>\n",
       "      <td>False</td>\n",
       "    </tr>\n",
       "    <tr>\n",
       "      <th>2</th>\n",
       "      <td>103</td>\n",
       "      <td>Laapataa Ladies</td>\n",
       "      <td>2015-11-05</td>\n",
       "      <td>3</td>\n",
       "      <td>1.000000</td>\n",
       "      <td>1446681600</td>\n",
       "      <td>NaN</td>\n",
       "      <td>2015</td>\n",
       "      <td>11</td>\n",
       "      <td>False</td>\n",
       "      <td>True</td>\n",
       "      <td>False</td>\n",
       "      <td>False</td>\n",
       "      <td>False</td>\n",
       "    </tr>\n",
       "    <tr>\n",
       "      <th>3</th>\n",
       "      <td>104</td>\n",
       "      <td>Raayan</td>\n",
       "      <td>2020-02-14</td>\n",
       "      <td>4</td>\n",
       "      <td>0.285714</td>\n",
       "      <td>1581638400</td>\n",
       "      <td>3.0</td>\n",
       "      <td>2020</td>\n",
       "      <td>2</td>\n",
       "      <td>False</td>\n",
       "      <td>False</td>\n",
       "      <td>False</td>\n",
       "      <td>False</td>\n",
       "      <td>False</td>\n",
       "    </tr>\n",
       "    <tr>\n",
       "      <th>4</th>\n",
       "      <td>105</td>\n",
       "      <td>Thalavan</td>\n",
       "      <td>1995-07-12</td>\n",
       "      <td>5</td>\n",
       "      <td>0.857143</td>\n",
       "      <td>804556800</td>\n",
       "      <td>7.0</td>\n",
       "      <td>1995</td>\n",
       "      <td>7</td>\n",
       "      <td>False</td>\n",
       "      <td>False</td>\n",
       "      <td>True</td>\n",
       "      <td>False</td>\n",
       "      <td>False</td>\n",
       "    </tr>\n",
       "  </tbody>\n",
       "</table>\n",
       "</div>"
      ],
      "text/plain": [
       "   MovieID            Title Release Date  UserID    Rating   Timestamp  \\\n",
       "0      101         Avengers   2005-05-15       1  0.428571  1104537600   \n",
       "1      102        Hera pari   2010-08-21       2  0.714286  1282435200   \n",
       "2      103  Laapataa Ladies   2015-11-05       3  1.000000  1446681600   \n",
       "3      104           Raayan   2020-02-14       4  0.285714  1581638400   \n",
       "4      105         Thalavan   1995-07-12       5  0.857143   804556800   \n",
       "\n",
       "   Collection(in K)  Release Year  Release Month  Genres_Comedy  Genres_Drama  \\\n",
       "0              10.0          2005              5          False         False   \n",
       "1               5.0          2010              8           True         False   \n",
       "2               NaN          2015             11          False          True   \n",
       "3               3.0          2020              2          False         False   \n",
       "4               7.0          1995              7          False         False   \n",
       "\n",
       "   Genres_Thriller  Genres_action  Genres_horror  \n",
       "0            False          False          False  \n",
       "1            False          False          False  \n",
       "2            False          False          False  \n",
       "3            False          False          False  \n",
       "4             True          False          False  "
      ]
     },
     "execution_count": 11,
     "metadata": {},
     "output_type": "execute_result"
    }
   ],
   "source": [
    "df.head()"
   ]
  },
  {
   "cell_type": "code",
   "execution_count": 12,
   "metadata": {},
   "outputs": [
    {
     "data": {
      "text/html": [
       "<div>\n",
       "<style scoped>\n",
       "    .dataframe tbody tr th:only-of-type {\n",
       "        vertical-align: middle;\n",
       "    }\n",
       "\n",
       "    .dataframe tbody tr th {\n",
       "        vertical-align: top;\n",
       "    }\n",
       "\n",
       "    .dataframe thead th {\n",
       "        text-align: right;\n",
       "    }\n",
       "</style>\n",
       "<table border=\"1\" class=\"dataframe\">\n",
       "  <thead>\n",
       "    <tr style=\"text-align: right;\">\n",
       "      <th></th>\n",
       "      <th>MovieID</th>\n",
       "      <th>Title</th>\n",
       "      <th>Release Date</th>\n",
       "      <th>UserID</th>\n",
       "      <th>Rating</th>\n",
       "      <th>Timestamp</th>\n",
       "      <th>Collection(in K)</th>\n",
       "      <th>Release Year</th>\n",
       "      <th>Release Month</th>\n",
       "      <th>Genres_Comedy</th>\n",
       "      <th>Genres_Drama</th>\n",
       "      <th>Genres_Thriller</th>\n",
       "      <th>Genres_action</th>\n",
       "      <th>Genres_horror</th>\n",
       "    </tr>\n",
       "  </thead>\n",
       "  <tbody>\n",
       "    <tr>\n",
       "      <th>6</th>\n",
       "      <td>107</td>\n",
       "      <td>saaho</td>\n",
       "      <td>2020-05-03</td>\n",
       "      <td>7</td>\n",
       "      <td>0.142857</td>\n",
       "      <td>76875686841</td>\n",
       "      <td>2.0</td>\n",
       "      <td>2020</td>\n",
       "      <td>5</td>\n",
       "      <td>False</td>\n",
       "      <td>False</td>\n",
       "      <td>True</td>\n",
       "      <td>False</td>\n",
       "      <td>False</td>\n",
       "    </tr>\n",
       "    <tr>\n",
       "      <th>7</th>\n",
       "      <td>108</td>\n",
       "      <td>stree</td>\n",
       "      <td>2019-12-15</td>\n",
       "      <td>8</td>\n",
       "      <td>0.571429</td>\n",
       "      <td>5319684900</td>\n",
       "      <td>9.0</td>\n",
       "      <td>2019</td>\n",
       "      <td>12</td>\n",
       "      <td>True</td>\n",
       "      <td>False</td>\n",
       "      <td>False</td>\n",
       "      <td>False</td>\n",
       "      <td>False</td>\n",
       "    </tr>\n",
       "    <tr>\n",
       "      <th>8</th>\n",
       "      <td>109</td>\n",
       "      <td>stree 2</td>\n",
       "      <td>2024-08-04</td>\n",
       "      <td>8</td>\n",
       "      <td>1.000000</td>\n",
       "      <td>234567869</td>\n",
       "      <td>8.0</td>\n",
       "      <td>2024</td>\n",
       "      <td>8</td>\n",
       "      <td>True</td>\n",
       "      <td>False</td>\n",
       "      <td>False</td>\n",
       "      <td>False</td>\n",
       "      <td>False</td>\n",
       "    </tr>\n",
       "    <tr>\n",
       "      <th>9</th>\n",
       "      <td>110</td>\n",
       "      <td>Bhool Bhulaiyaa</td>\n",
       "      <td>2007-07-06</td>\n",
       "      <td>9</td>\n",
       "      <td>0.528571</td>\n",
       "      <td>3490556839</td>\n",
       "      <td>10.0</td>\n",
       "      <td>2007</td>\n",
       "      <td>7</td>\n",
       "      <td>False</td>\n",
       "      <td>False</td>\n",
       "      <td>False</td>\n",
       "      <td>False</td>\n",
       "      <td>True</td>\n",
       "    </tr>\n",
       "    <tr>\n",
       "      <th>10</th>\n",
       "      <td>111</td>\n",
       "      <td>Bhool Bhulaiyaa 2</td>\n",
       "      <td>2022-02-05</td>\n",
       "      <td>9</td>\n",
       "      <td>0.285714</td>\n",
       "      <td>66787325588</td>\n",
       "      <td>7.0</td>\n",
       "      <td>2022</td>\n",
       "      <td>2</td>\n",
       "      <td>False</td>\n",
       "      <td>False</td>\n",
       "      <td>False</td>\n",
       "      <td>False</td>\n",
       "      <td>True</td>\n",
       "    </tr>\n",
       "  </tbody>\n",
       "</table>\n",
       "</div>"
      ],
      "text/plain": [
       "    MovieID              Title Release Date  UserID    Rating    Timestamp  \\\n",
       "6       107              saaho   2020-05-03       7  0.142857  76875686841   \n",
       "7       108              stree   2019-12-15       8  0.571429   5319684900   \n",
       "8       109            stree 2   2024-08-04       8  1.000000    234567869   \n",
       "9       110    Bhool Bhulaiyaa   2007-07-06       9  0.528571   3490556839   \n",
       "10      111  Bhool Bhulaiyaa 2   2022-02-05       9  0.285714  66787325588   \n",
       "\n",
       "    Collection(in K)  Release Year  Release Month  Genres_Comedy  \\\n",
       "6                2.0          2020              5          False   \n",
       "7                9.0          2019             12           True   \n",
       "8                8.0          2024              8           True   \n",
       "9               10.0          2007              7          False   \n",
       "10               7.0          2022              2          False   \n",
       "\n",
       "    Genres_Drama  Genres_Thriller  Genres_action  Genres_horror  \n",
       "6          False             True          False          False  \n",
       "7          False            False          False          False  \n",
       "8          False            False          False          False  \n",
       "9          False            False          False           True  \n",
       "10         False            False          False           True  "
      ]
     },
     "execution_count": 12,
     "metadata": {},
     "output_type": "execute_result"
    }
   ],
   "source": [
    "df.tail()"
   ]
  },
  {
   "cell_type": "code",
   "execution_count": 13,
   "metadata": {},
   "outputs": [
    {
     "data": {
      "text/plain": [
       "MovieID             0\n",
       "Title               0\n",
       "Release Date        0\n",
       "UserID              0\n",
       "Rating              0\n",
       "Timestamp           0\n",
       "Collection(in K)    1\n",
       "Release Year        0\n",
       "Release Month       0\n",
       "Genres_Comedy       0\n",
       "Genres_Drama        0\n",
       "Genres_Thriller     0\n",
       "Genres_action       0\n",
       "Genres_horror       0\n",
       "dtype: int64"
      ]
     },
     "execution_count": 13,
     "metadata": {},
     "output_type": "execute_result"
    }
   ],
   "source": [
    "df.isnull().sum() "
   ]
  },
  {
   "cell_type": "code",
   "execution_count": 14,
   "metadata": {},
   "outputs": [
    {
     "data": {
      "image/png": "[encoded data removed]",
      "text/plain": [
       "<Figure size 1000x600 with 1 Axes>"
      ]
     },
     "metadata": {},
     "output_type": "display_data"
    }
   ],
   "source": [
    "import matplotlib.pyplot as plt\n",
    "import seaborn as sns\n",
    "\n",
    "# Plotting boxplots for numerical columns\n",
    "plt.figure(figsize=(10, 6))\n",
    "sns.boxplot(data=df[['Collection(in K)', 'Rating']])\n",
    "plt.show()"
   ]
  },
  {
   "cell_type": "code",
   "execution_count": 15,
   "metadata": {},
   "outputs": [
    {
     "data": {
      "text/plain": [
       "Text(0.5, 1.0, 'rate')"
      ]
     },
     "execution_count": 15,
     "metadata": {},
     "output_type": "execute_result"
    },
    {
     "data": {
      "image/png": "[encoded data removed]",
      "text/plain": [
       "<Figure size 1500x400 with 1 Axes>"
      ]
     },
     "metadata": {},
     "output_type": "display_data"
    }
   ],
   "source": [
    "import seaborn as sns\n",
    "import matplotlib.pyplot as plt\n",
    "\n",
    "plt.figure(figsize=(15, 4))\n",
    "\n",
    "plt.subplot(1, 3, 1)\n",
    "sns.histplot(df['Rating'], kde=True,color=\"blue\")\n",
    "plt.title('rate')\n",
    "\n"
   ]
  },
  {
   "cell_type": "code",
   "execution_count": 16,
   "metadata": {},
   "outputs": [
    {
     "data": {
      "text/plain": [
       "Text(0.5, 1.0, 'Collection')"
      ]
     },
     "execution_count": 16,
     "metadata": {},
     "output_type": "execute_result"
    },
    {
     "data": {
      "image/png": "[encoded data removed]",
      "text/plain": [
       "<Figure size 1500x300 with 2 Axes>"
      ]
     },
     "metadata": {},
     "output_type": "display_data"
    }
   ],
   "source": [
    "import seaborn as sns\n",
    "import matplotlib.pyplot as plt\n",
    "\n",
    "plt.figure(figsize=(15, 3))\n",
    "\n",
    "plt.subplot(1, 3, 1)\n",
    "sns.histplot(df['Rating'], kde=True,color=\"green\")\n",
    "plt.title('rate')\n",
    "\n",
    "plt.subplot(1, 3, 2)\n",
    "sns.histplot(df['Collection(in K)'], kde=True,color=\"aqua\")\n",
    "plt.title('Collection')\n"
   ]
  },
  {
   "cell_type": "code",
   "execution_count": 17,
   "metadata": {},
   "outputs": [
    {
     "data": {
      "image/png": "[encoded data removed]",
      "text/plain": [
       "<Figure size 700x350 with 1 Axes>"
      ]
     },
     "metadata": {},
     "output_type": "display_data"
    }
   ],
   "source": [
    "from scipy import stats\n",
    "plt.figure(figsize=(7, 3.5))\n",
    "\n",
    "# Plot all data points\n",
    "plt.scatter(df['Rating'], df['Title'], c='blue', label='Data')\n",
    "\n",
    "# Highlight outliers\n",
    "outliers = df[(df['Rating'] > 3) | (df['Rating'] < -3) ]\n",
    "plt.scatter(outliers['Rating'], outliers['Title'], c='red', label='Outliers')\n",
    "\n",
    "plt.ylabel('Title')\n",
    "plt.xlabel('Rating')\n",
    "plt.title('Scatter Plot of Rating vs. Title Level')\n",
    "plt.legend()\n",
    "plt.show()"
   ]
  },
  {
   "cell_type": "code",
   "execution_count": null,
   "metadata": {},
   "outputs": [],
   "source": []
  }
 ],
 "metadata": {
  "kernelspec": {
   "display_name": "Python 3",
   "language": "python",
   "name": "python3"
  },
  "language_info": {
   "codemirror_mode": {
    "name": "ipython",
    "version": 3
   },
   "file_extension": ".py",
   "mimetype": "text/x-python",
   "name": "python",
   "nbconvert_exporter": "python",
   "pygments_lexer": "ipython3",
   "version": "3.11.5"
  }
 },
 "nbformat": 4,
 "nbformat_minor": 2
}
